{
 "cells": [
  {
   "cell_type": "markdown",
   "id": "69be4db0",
   "metadata": {},
   "source": [
    "# Data"
   ]
  },
  {
   "cell_type": "code",
   "execution_count": 1,
   "id": "a64a2f5a",
   "metadata": {},
   "outputs": [
    {
     "name": "stdout",
     "output_type": "stream",
     "text": [
      "\n",
      "Number of data points: \t1797\n",
      "Number of features: \t64\n",
      "\n",
      "X: \n",
      "[[ 0.  0.  5. ...  0.  0.  0.]\n",
      " [ 0.  0.  0. ... 10.  0.  0.]\n",
      " [ 0.  0.  0. ... 16.  9.  0.]\n",
      " ...\n",
      " [ 0.  0.  1. ...  6.  0.  0.]\n",
      " [ 0.  0.  2. ... 12.  0.  0.]\n",
      " [ 0.  0. 10. ... 12.  1.  0.]]\n",
      "\n",
      "\n",
      "\n",
      "------------------------------------------Images in dataset as example------------------------------\n",
      "\n"
     ]
    },
    {
     "data": {
      "image/png": "[encoded data removed]",
      "text/plain": [
       "<Figure size 1440x288 with 5 Axes>"
      ]
     },
     "metadata": {
      "needs_background": "light"
     },
     "output_type": "display_data"
    }
   ],
   "source": [
    "from sklearn.datasets import load_digits\n",
    "import time\n",
    "import matplotlib.pyplot as plt\n",
    "import random\n",
    "import numpy as np\n",
    "\n",
    "data = load_digits()\n",
    "X=data['data']\n",
    "Y=data['target']\n",
    "\n",
    "print(f\"\\nNumber of data points: \\t{ X.shape[0] }\")\n",
    "print(f\"Number of features: \\t{ X.shape[1] }\\n\")\n",
    "print(f\"X: \\n{X}\\n\\n\")\n",
    "\n",
    "print(\"\\n------------------------------------------Images in dataset as example------------------------------\\n\")\n",
    "plt.figure(figsize=(20,4))\n",
    "for index, (image, label) in enumerate(zip(data.data[0:5], data.target[0:5])):\n",
    " plt.subplot(1, 5, index + 1)\n",
    " plt.imshow(np.reshape(image, (8,8)), cmap=plt.cm.gray)\n",
    " plt.title('Actual value: %i\\n' % label, fontsize = 20)"
   ]
  },
  {
   "cell_type": "markdown",
   "id": "f9954084",
   "metadata": {},
   "source": [
    "# Using Classifier without any transformation of dataset"
   ]
  },
  {
   "cell_type": "code",
   "execution_count": 2,
   "id": "638c5058",
   "metadata": {},
   "outputs": [
    {
     "name": "stdout",
     "output_type": "stream",
     "text": [
      "96.29629629629629\n"
     ]
    },
    {
     "name": "stderr",
     "output_type": "stream",
     "text": [
      "C:\\ProgramData\\Anaconda3\\lib\\site-packages\\sklearn\\linear_model\\_logistic.py:763: ConvergenceWarning: lbfgs failed to converge (status=1):\n",
      "STOP: TOTAL NO. of ITERATIONS REACHED LIMIT.\n",
      "\n",
      "Increase the number of iterations (max_iter) or scale the data as shown in:\n",
      "    https://scikit-learn.org/stable/modules/preprocessing.html\n",
      "Please also refer to the documentation for alternative solver options:\n",
      "    https://scikit-learn.org/stable/modules/linear_model.html#logistic-regression\n",
      "  n_iter_i = _check_optimize_result(\n"
     ]
    }
   ],
   "source": [
    "from sklearn.model_selection import train_test_split\n",
    "from sklearn.linear_model import LogisticRegression\n",
    "\n",
    "X_train, X_test, Y_train, Y_test = train_test_split(X, Y, test_size=0.33, random_state=42)\n",
    "\n",
    "logisticRegr = LogisticRegression()\n",
    "logisticRegr.fit(X_train, Y_train)\n",
    "\n",
    "predictions = logisticRegr.predict(X_test)\n",
    "\n",
    "correct=0\n",
    "total=0\n",
    "for i in range(len(predictions)):\n",
    "    if(predictions[i]==Y_test[i]):\n",
    "        correct+=1\n",
    "    total+=1\n",
    "score=(correct*100)/total\n",
    "print(score)\n",
    "# score = logisticRegr.score(X_test, Y_test)\n",
    "# print(score)\n"
   ]
  },
  {
   "cell_type": "markdown",
   "id": "b9057aac",
   "metadata": {},
   "source": [
    "# Using Classifier after applying Dimensionality reduction "
   ]
  },
  {
   "cell_type": "markdown",
   "id": "b180be59",
   "metadata": {},
   "source": [
    "# PCA"
   ]
  },
  {
   "cell_type": "code",
   "execution_count": 3,
   "id": "151f3bd8",
   "metadata": {},
   "outputs": [
    {
     "name": "stdout",
     "output_type": "stream",
     "text": [
      "Time taken by PCA :\t0.008780479431152344\n",
      "\n",
      "\n",
      "X: \n",
      "[[ -1.25946695  21.27488846]\n",
      " [  7.95761318 -20.76871234]\n",
      " [  6.99192213  -9.9559819 ]\n",
      " ...\n",
      " [ 10.80128327  -6.96024963]\n",
      " [ -4.87210077  12.42395997]\n",
      " [ -0.34439178   6.36556472]]\n",
      "\n",
      "\n"
     ]
    }
   ],
   "source": [
    "from sklearn.decomposition import PCA\n",
    "begin_PCA = time.time()\n",
    "pca = PCA(2)\n",
    "pca.fit(X)\n",
    "X_transformed_pca=pca.transform(X)\n",
    "end_PCA=time.time()\n",
    "\n",
    "time_PCA=end_PCA-begin_PCA\n",
    "\n",
    "\n",
    "print(f\"Time taken by PCA :\\t{time_PCA}\")\n",
    "\n",
    "print(f\"\\n\\nX: \\n{X_transformed_pca}\\n\\n\")"
   ]
  },
  {
   "cell_type": "code",
   "execution_count": 4,
   "id": "66dacbfe",
   "metadata": {},
   "outputs": [
    {
     "name": "stdout",
     "output_type": "stream",
     "text": [
      "Accuracy : 60.437710437710436 %\n"
     ]
    },
    {
     "name": "stderr",
     "output_type": "stream",
     "text": [
      "C:\\ProgramData\\Anaconda3\\lib\\site-packages\\sklearn\\linear_model\\_logistic.py:763: ConvergenceWarning: lbfgs failed to converge (status=1):\n",
      "STOP: TOTAL NO. of ITERATIONS REACHED LIMIT.\n",
      "\n",
      "Increase the number of iterations (max_iter) or scale the data as shown in:\n",
      "    https://scikit-learn.org/stable/modules/preprocessing.html\n",
      "Please also refer to the documentation for alternative solver options:\n",
      "    https://scikit-learn.org/stable/modules/linear_model.html#logistic-regression\n",
      "  n_iter_i = _check_optimize_result(\n"
     ]
    }
   ],
   "source": [
    "\n",
    "X_transformed_pca_train, X_transformed_pca_test, Y_train, Y_test = train_test_split(X_transformed_pca, Y, test_size=0.33, random_state=42)\n",
    "\n",
    "logisticRegr = LogisticRegression()\n",
    "logisticRegr.fit(X_transformed_pca_train, Y_train)\n",
    "\n",
    "predictions = logisticRegr.predict(X_transformed_pca_test)\n",
    "\n",
    "correct=0\n",
    "total=0\n",
    "for i in range(len(predictions)):\n",
    "    if(predictions[i]==Y_test[i]):\n",
    "        correct+=1\n",
    "    total+=1\n",
    "score=(correct*100)/total\n",
    "print(\"Accuracy :\",score,\"%\")"
   ]
  },
  {
   "cell_type": "markdown",
   "id": "86e8588d",
   "metadata": {},
   "source": [
    "## KPCA"
   ]
  },
  {
   "cell_type": "code",
   "execution_count": 5,
   "id": "72e518c7",
   "metadata": {},
   "outputs": [
    {
     "name": "stdout",
     "output_type": "stream",
     "text": [
      "Time taken by KPCA :\t15.433667659759521\n",
      "\n",
      "\n",
      "X: \n",
      "[[-0.02621402  0.27968157 -0.12320968  0.16480472 -0.10118919]\n",
      " [ 0.10986595 -0.26004777  0.05618478 -0.18410677  0.0611295 ]\n",
      " [ 0.09183789 -0.12396951  0.03761125 -0.14720767 -0.22449157]\n",
      " ...\n",
      " [ 0.14000556 -0.08683355  0.07049156 -0.08823219 -0.05188014]\n",
      " [-0.07272909  0.15702333 -0.12329936 -0.0907765   0.04384526]\n",
      " [-0.00488349  0.07650112  0.14169459 -0.09288157 -0.04004588]]\n",
      "\n",
      "\n"
     ]
    }
   ],
   "source": [
    "from nystrompca import KernelPCA\n",
    "\n",
    "begin_KPCA = time.time()\n",
    "kpca = KernelPCA(sigma=100, scale=False)\n",
    "kpca.fit_transform(X)\n",
    "end_KPCA=time.time()\n",
    "X_transformed_kpca=kpca.scores_\n",
    "time_KPCA=end_KPCA-begin_KPCA\n",
    "\n",
    "\n",
    "# print(f\"Kernel PCA variance captured:\\t{kpca.explained_variance_.sum():.4f}\")\n",
    "print(f\"Time taken by KPCA :\\t{time_KPCA}\")\n",
    "\n",
    "print(f\"\\n\\nX: \\n{X_transformed_kpca}\\n\\n\")"
   ]
  },
  {
   "cell_type": "code",
   "execution_count": 6,
   "id": "eaa03104",
   "metadata": {},
   "outputs": [
    {
     "name": "stdout",
     "output_type": "stream",
     "text": [
      "78.95622895622895\n"
     ]
    }
   ],
   "source": [
    "X_transformed_kpca_train, X_transformed_kpca_test, Y_train, Y_test = train_test_split(X_transformed_kpca, Y, test_size=0.33, random_state=42)\n",
    "\n",
    "logisticRegr = LogisticRegression()\n",
    "logisticRegr.fit(X_transformed_kpca_train, Y_train)\n",
    "\n",
    "predictions = logisticRegr.predict(X_transformed_kpca_test)\n",
    "\n",
    "# score = logisticRegr.score(X_transformed_kpca_test, Y_test)\n",
    "# print(score)\n",
    "correct=0\n",
    "total=0\n",
    "for i in range(len(predictions)):\n",
    "    if(predictions[i]==Y_test[i]):\n",
    "        correct+=1\n",
    "    total+=1\n",
    "score=(correct*100)/total\n",
    "print(score)"
   ]
  },
  {
   "cell_type": "markdown",
   "id": "0c966d2c",
   "metadata": {},
   "source": [
    "## Nyström method"
   ]
  },
  {
   "cell_type": "code",
   "execution_count": 7,
   "id": "4c634f3b",
   "metadata": {},
   "outputs": [
    {
     "name": "stdout",
     "output_type": "stream",
     "text": [
      "Time taken by Nystrom :\t0.2188098430633545\n",
      "\n",
      "\n",
      "X: \n",
      "[[ 0.1474513  -0.12996188  0.07413502  0.17096153 -0.08879174]\n",
      " [-0.06892699  0.20229749  0.00712452 -0.17302671  0.11080947]\n",
      " [-0.07666647  0.06995567  0.01654572 -0.15017569 -0.09397395]\n",
      " ...\n",
      " [ 0.07268891  0.0424341   0.01289179 -0.04891667 -0.04643819]\n",
      " [ 0.08218683 -0.06923403  0.21243317  0.02835671  0.00253648]\n",
      " [ 0.07090645 -0.11399481  0.01504549 -0.04097222 -0.08552826]]\n",
      "\n",
      "\n"
     ]
    }
   ],
   "source": [
    "from nystrompca import NystromKPCA\n",
    "\n",
    "begin_nystrom=time.time()\n",
    "nystrom_kpca = NystromKPCA(m_subset=10, sigma=100, scale=False)\n",
    "nystrom_kpca.fit_transform(X)\n",
    "X_transformed_nystrom=nystrom_kpca.scores_\n",
    "end_nystrom=time.time()\n",
    "\n",
    "time_nystrom=end_nystrom-begin_nystrom\n",
    "\n",
    "\n",
    "# print(f\"Nyström KPCA variance captured:\\t{nystrom_kpca.explained_variance_.sum():.4f}\")\n",
    "print(f\"Time taken by Nystrom :\\t{time_nystrom}\")\n",
    "\n",
    "\n",
    "print(f\"\\n\\nX: \\n{X_transformed_nystrom}\\n\\n\")"
   ]
  },
  {
   "cell_type": "code",
   "execution_count": 8,
   "id": "34785b7f",
   "metadata": {},
   "outputs": [
    {
     "name": "stdout",
     "output_type": "stream",
     "text": [
      "76.0942760942761\n"
     ]
    }
   ],
   "source": [
    "X_transformed_nystrom_train, X_transformed_nystrom_test, Y_train, Y_test = train_test_split(X_transformed_nystrom, Y, test_size=0.33, random_state=42)\n",
    "\n",
    "logisticRegr = LogisticRegression()\n",
    "logisticRegr.fit(X_transformed_nystrom_train, Y_train)\n",
    "\n",
    "predictions = logisticRegr.predict(X_transformed_nystrom_test)\n",
    "\n",
    "# score = logisticRegr.score(X_transformed_nystrom_test, Y_test)\n",
    "# print(score)\n",
    "correct=0\n",
    "total=0\n",
    "for i in range(len(predictions)):\n",
    "    if(predictions[i]==Y_test[i]):\n",
    "        correct+=1\n",
    "    total+=1\n",
    "score=(correct*100)/total\n",
    "print(score)"
   ]
  },
  {
   "cell_type": "code",
   "execution_count": null,
   "id": "95973a12",
   "metadata": {},
   "outputs": [],
   "source": []
  }
 ],
 "metadata": {
  "kernelspec": {
   "display_name": "Python 3",
   "language": "python",
   "name": "python3"
  },
  "language_info": {
   "codemirror_mode": {
    "name": "ipython",
    "version": 3
   },
   "file_extension": ".py",
   "mimetype": "text/x-python",
   "name": "python",
   "nbconvert_exporter": "python",
   "pygments_lexer": "ipython3",
   "version": "3.8.8"
  }
 },
 "nbformat": 4,
 "nbformat_minor": 5
}
